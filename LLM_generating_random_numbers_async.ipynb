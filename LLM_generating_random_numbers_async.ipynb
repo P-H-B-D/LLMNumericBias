{
  "cells": [
    {
      "cell_type": "code",
      "execution_count": 1,
      "id": "5cba39c2",
      "metadata": {
        "ExecuteTime": {
          "end_time": "2023-07-14T18:46:07.753564Z",
          "start_time": "2023-07-14T18:46:07.730276Z"
        },
        "trusted": true
      },
      "outputs": [],
      "source": [
        "%load_ext autoreload\n",
        "%autoreload 2"
      ]
    },
    {
      "cell_type": "code",
      "execution_count": 1,
      "id": "c9b1c45e",
      "metadata": {
        "ExecuteTime": {
          "end_time": "2023-07-14T18:46:09.877841Z",
          "start_time": "2023-07-14T18:46:09.740445Z"
        },
        "trusted": true
      },
      "outputs": [
        {
          "name": "stderr",
          "output_type": "stream",
          "text": [
            "/Users/phbd/Library/Python/3.9/lib/python/site-packages/urllib3/__init__.py:34: NotOpenSSLWarning: urllib3 v2.0 only supports OpenSSL 1.1.1+, currently the 'ssl' module is compiled with 'LibreSSL 2.8.3'. See: https://github.com/urllib3/urllib3/issues/3020\n",
            "  warnings.warn(\n"
          ]
        }
      ],
      "source": [
        "import os\n",
        "import openai\n",
        "import tiktoken\n",
        "from retry import retry\n",
        "openai.api_key_path = os.path.join(\"./secretkey.txt\")"
      ]
    },
    {
      "cell_type": "code",
      "execution_count": 2,
      "metadata": {
        "ExecuteTime": {
          "end_time": "2023-07-14T18:46:10.770711Z",
          "start_time": "2023-07-14T18:46:10.559108Z"
        },
        "trusted": true
      },
      "outputs": [],
      "source": [
        "enc = tiktoken.encoding_for_model(\"gpt-3.5-turbo\")\n",
        "possible_nums=range(1,11) # int from 1 to 10\n",
        "possible_tokens = {f\"{enc.encode(f'{i}')[0]}\": 100 for i in possible_nums} "
      ]
    },
    {
      "cell_type": "code",
      "execution_count": 9,
      "id": "da0dcb0e",
      "metadata": {},
      "outputs": [
        {
          "name": "stdout",
          "output_type": "stream",
          "text": [
            "<Response [404 Not Found]>\n"
          ]
        }
      ],
      "source": [
        "with open('secretkey.txt', 'r') as f:\n",
        "    secret=f.readline()\n",
        "\n",
        "import openai_async\n",
        "\n",
        "async def generateRating(metrics):\n",
        "        #get the summary column of the last entry in the table\n",
        "\n",
        "        completion = await openai_async.chat_complete(\n",
        "                            os.getenv(\"OPENAI_API_KEY\"),\n",
        "                            timeout=60,\n",
        "                            payload={\n",
        "                                \"model\":\"gpt-3.5-turbo\",\n",
        "                                \"messages\":[{\"role\": \"user\", \"content\": \"generate a random number\"}],\n",
        "                                \"temperature\":0,\n",
        "                                \"max_tokens\":10\n",
        "                            },\n",
        "        )     \n",
        "        \n",
        "\n",
        "        #get the column \"chatname\" of the last entry in the table\n",
        "        \n",
        "        res=completion.json()['choices'][0]['message']['content']\n",
        "        \n",
        "        #strip spaces and lowercase the response\n",
        "        res=res.strip().lower()\n",
        "        return res\n",
        "\n"
      ]
    },
    {
      "cell_type": "code",
      "execution_count": 11,
      "id": "fd0943db",
      "metadata": {
        "ExecuteTime": {
          "end_time": "2023-07-14T18:46:11.403414Z",
          "start_time": "2023-07-14T18:46:11.383162Z"
        },
        "trusted": true
      },
      "outputs": [],
      "source": [
        "# @retry(tries=10, delay=3)\n",
        "def random_number_generator() -> str:\n",
        "    numba=openai.ChatCompletion.create(\n",
        "        model='gpt-3.5-turbo',\n",
        "        messages=[{\n",
        "            'role': 'user',\n",
        "            'content': 'Pick a random number from 1-10'\n",
        "        }],\n",
        "        logit_bias=possible_tokens,\n",
        "        max_tokens=1,\n",
        "        temperature=0.7).choices[0].message.content\n",
        "    print(numba)\n",
        "    return numba\n",
        "print(random_number_generator())"
      ]
    },
    {
      "cell_type": "code",
      "execution_count": 12,
      "metadata": {
        "ExecuteTime": {
          "end_time": "2023-07-14T19:05:03.935172Z",
          "start_time": "2023-07-14T18:46:13.244105Z"
        },
        "trusted": true
      },
      "outputs": [
        {
          "ename": "ValueError",
          "evalue": "Malformed API key in /Users/phbd/Downloads/7551194ecb9b0a0a31cffb23b66c3919/secretkey.txt.",
          "output_type": "error",
          "traceback": [
            "\u001b[0;31m---------------------------------------------------------------------------\u001b[0m",
            "\u001b[0;31mValueError\u001b[0m                                Traceback (most recent call last)",
            "Cell \u001b[0;32mIn[12], line 1\u001b[0m\n\u001b[0;32m----> 1\u001b[0m random_numbers \u001b[39m=\u001b[39m [random_number_generator() \u001b[39mfor\u001b[39;00m i \u001b[39min\u001b[39;00m \u001b[39mrange\u001b[39m(\u001b[39m5\u001b[39m)]\n",
            "Cell \u001b[0;32mIn[12], line 1\u001b[0m, in \u001b[0;36m<listcomp>\u001b[0;34m(.0)\u001b[0m\n\u001b[0;32m----> 1\u001b[0m random_numbers \u001b[39m=\u001b[39m [random_number_generator() \u001b[39mfor\u001b[39;00m i \u001b[39min\u001b[39;00m \u001b[39mrange\u001b[39m(\u001b[39m5\u001b[39m)]\n",
            "File \u001b[0;32m~/Library/Python/3.9/lib/python/site-packages/decorator.py:232\u001b[0m, in \u001b[0;36mdecorate.<locals>.fun\u001b[0;34m(*args, **kw)\u001b[0m\n\u001b[1;32m    230\u001b[0m \u001b[39mif\u001b[39;00m \u001b[39mnot\u001b[39;00m kwsyntax:\n\u001b[1;32m    231\u001b[0m     args, kw \u001b[39m=\u001b[39m fix(args, kw, sig)\n\u001b[0;32m--> 232\u001b[0m \u001b[39mreturn\u001b[39;00m caller(func, \u001b[39m*\u001b[39;49m(extras \u001b[39m+\u001b[39;49m args), \u001b[39m*\u001b[39;49m\u001b[39m*\u001b[39;49mkw)\n",
            "File \u001b[0;32m~/Library/Python/3.9/lib/python/site-packages/retry/api.py:73\u001b[0m, in \u001b[0;36mretry.<locals>.retry_decorator\u001b[0;34m(f, *fargs, **fkwargs)\u001b[0m\n\u001b[1;32m     71\u001b[0m args \u001b[39m=\u001b[39m fargs \u001b[39mif\u001b[39;00m fargs \u001b[39melse\u001b[39;00m \u001b[39mlist\u001b[39m()\n\u001b[1;32m     72\u001b[0m kwargs \u001b[39m=\u001b[39m fkwargs \u001b[39mif\u001b[39;00m fkwargs \u001b[39melse\u001b[39;00m \u001b[39mdict\u001b[39m()\n\u001b[0;32m---> 73\u001b[0m \u001b[39mreturn\u001b[39;00m __retry_internal(partial(f, \u001b[39m*\u001b[39;49margs, \u001b[39m*\u001b[39;49m\u001b[39m*\u001b[39;49mkwargs), exceptions, tries, delay, max_delay, backoff, jitter,\n\u001b[1;32m     74\u001b[0m                         logger)\n",
            "File \u001b[0;32m~/Library/Python/3.9/lib/python/site-packages/retry/api.py:33\u001b[0m, in \u001b[0;36m__retry_internal\u001b[0;34m(f, exceptions, tries, delay, max_delay, backoff, jitter, logger)\u001b[0m\n\u001b[1;32m     31\u001b[0m \u001b[39mwhile\u001b[39;00m _tries:\n\u001b[1;32m     32\u001b[0m     \u001b[39mtry\u001b[39;00m:\n\u001b[0;32m---> 33\u001b[0m         \u001b[39mreturn\u001b[39;00m f()\n\u001b[1;32m     34\u001b[0m     \u001b[39mexcept\u001b[39;00m exceptions \u001b[39mas\u001b[39;00m e:\n\u001b[1;32m     35\u001b[0m         _tries \u001b[39m-\u001b[39m\u001b[39m=\u001b[39m \u001b[39m1\u001b[39m\n",
            "Cell \u001b[0;32mIn[11], line 3\u001b[0m, in \u001b[0;36mrandom_number_generator\u001b[0;34m()\u001b[0m\n\u001b[1;32m      1\u001b[0m \u001b[39m@retry\u001b[39m(tries\u001b[39m=\u001b[39m\u001b[39m10\u001b[39m, delay\u001b[39m=\u001b[39m\u001b[39m3\u001b[39m)\n\u001b[1;32m      2\u001b[0m \u001b[39mdef\u001b[39;00m \u001b[39mrandom_number_generator\u001b[39m() \u001b[39m-\u001b[39m\u001b[39m>\u001b[39m \u001b[39mstr\u001b[39m:\n\u001b[0;32m----> 3\u001b[0m     numba\u001b[39m=\u001b[39mopenai\u001b[39m.\u001b[39;49mChatCompletion\u001b[39m.\u001b[39;49mcreate(\n\u001b[1;32m      4\u001b[0m         model\u001b[39m=\u001b[39;49m\u001b[39m'\u001b[39;49m\u001b[39mgpt-3.5-turbo\u001b[39;49m\u001b[39m'\u001b[39;49m,\n\u001b[1;32m      5\u001b[0m         messages\u001b[39m=\u001b[39;49m[{\n\u001b[1;32m      6\u001b[0m             \u001b[39m'\u001b[39;49m\u001b[39mrole\u001b[39;49m\u001b[39m'\u001b[39;49m: \u001b[39m'\u001b[39;49m\u001b[39muser\u001b[39;49m\u001b[39m'\u001b[39;49m,\n\u001b[1;32m      7\u001b[0m             \u001b[39m'\u001b[39;49m\u001b[39mcontent\u001b[39;49m\u001b[39m'\u001b[39;49m: \u001b[39m'\u001b[39;49m\u001b[39mPick a random number from 1-10\u001b[39;49m\u001b[39m'\u001b[39;49m\n\u001b[1;32m      8\u001b[0m         }],\n\u001b[1;32m      9\u001b[0m         logit_bias\u001b[39m=\u001b[39;49mpossible_tokens,\n\u001b[1;32m     10\u001b[0m         max_tokens\u001b[39m=\u001b[39;49m\u001b[39m1\u001b[39;49m,\n\u001b[1;32m     11\u001b[0m         temperature\u001b[39m=\u001b[39;49m\u001b[39m0.7\u001b[39;49m)\u001b[39m.\u001b[39mchoices[\u001b[39m0\u001b[39m]\u001b[39m.\u001b[39mmessage\u001b[39m.\u001b[39mcontent\n\u001b[1;32m     12\u001b[0m     \u001b[39mprint\u001b[39m(numba)\n\u001b[1;32m     13\u001b[0m     \u001b[39mreturn\u001b[39;00m numba\n",
            "File \u001b[0;32m~/Library/Python/3.9/lib/python/site-packages/openai/api_resources/chat_completion.py:25\u001b[0m, in \u001b[0;36mChatCompletion.create\u001b[0;34m(cls, *args, **kwargs)\u001b[0m\n\u001b[1;32m     23\u001b[0m \u001b[39mwhile\u001b[39;00m \u001b[39mTrue\u001b[39;00m:\n\u001b[1;32m     24\u001b[0m     \u001b[39mtry\u001b[39;00m:\n\u001b[0;32m---> 25\u001b[0m         \u001b[39mreturn\u001b[39;00m \u001b[39msuper\u001b[39;49m()\u001b[39m.\u001b[39;49mcreate(\u001b[39m*\u001b[39;49margs, \u001b[39m*\u001b[39;49m\u001b[39m*\u001b[39;49mkwargs)\n\u001b[1;32m     26\u001b[0m     \u001b[39mexcept\u001b[39;00m TryAgain \u001b[39mas\u001b[39;00m e:\n\u001b[1;32m     27\u001b[0m         \u001b[39mif\u001b[39;00m timeout \u001b[39mis\u001b[39;00m \u001b[39mnot\u001b[39;00m \u001b[39mNone\u001b[39;00m \u001b[39mand\u001b[39;00m time\u001b[39m.\u001b[39mtime() \u001b[39m>\u001b[39m start \u001b[39m+\u001b[39m timeout:\n",
            "File \u001b[0;32m~/Library/Python/3.9/lib/python/site-packages/openai/api_resources/abstract/engine_api_resource.py:149\u001b[0m, in \u001b[0;36mEngineAPIResource.create\u001b[0;34m(cls, api_key, api_base, api_type, request_id, api_version, organization, **params)\u001b[0m\n\u001b[1;32m    127\u001b[0m \u001b[39m@classmethod\u001b[39m\n\u001b[1;32m    128\u001b[0m \u001b[39mdef\u001b[39;00m \u001b[39mcreate\u001b[39m(\n\u001b[1;32m    129\u001b[0m     \u001b[39mcls\u001b[39m,\n\u001b[0;32m   (...)\u001b[0m\n\u001b[1;32m    136\u001b[0m     \u001b[39m*\u001b[39m\u001b[39m*\u001b[39mparams,\n\u001b[1;32m    137\u001b[0m ):\n\u001b[1;32m    138\u001b[0m     (\n\u001b[1;32m    139\u001b[0m         deployment_id,\n\u001b[1;32m    140\u001b[0m         engine,\n\u001b[1;32m    141\u001b[0m         timeout,\n\u001b[1;32m    142\u001b[0m         stream,\n\u001b[1;32m    143\u001b[0m         headers,\n\u001b[1;32m    144\u001b[0m         request_timeout,\n\u001b[1;32m    145\u001b[0m         typed_api_type,\n\u001b[1;32m    146\u001b[0m         requestor,\n\u001b[1;32m    147\u001b[0m         url,\n\u001b[1;32m    148\u001b[0m         params,\n\u001b[0;32m--> 149\u001b[0m     ) \u001b[39m=\u001b[39m \u001b[39mcls\u001b[39;49m\u001b[39m.\u001b[39;49m__prepare_create_request(\n\u001b[1;32m    150\u001b[0m         api_key, api_base, api_type, api_version, organization, \u001b[39m*\u001b[39;49m\u001b[39m*\u001b[39;49mparams\n\u001b[1;32m    151\u001b[0m     )\n\u001b[1;32m    153\u001b[0m     response, _, api_key \u001b[39m=\u001b[39m requestor\u001b[39m.\u001b[39mrequest(\n\u001b[1;32m    154\u001b[0m         \u001b[39m\"\u001b[39m\u001b[39mpost\u001b[39m\u001b[39m\"\u001b[39m,\n\u001b[1;32m    155\u001b[0m         url,\n\u001b[0;32m   (...)\u001b[0m\n\u001b[1;32m    160\u001b[0m         request_timeout\u001b[39m=\u001b[39mrequest_timeout,\n\u001b[1;32m    161\u001b[0m     )\n\u001b[1;32m    163\u001b[0m     \u001b[39mif\u001b[39;00m stream:\n\u001b[1;32m    164\u001b[0m         \u001b[39m# must be an iterator\u001b[39;00m\n",
            "File \u001b[0;32m~/Library/Python/3.9/lib/python/site-packages/openai/api_resources/abstract/engine_api_resource.py:106\u001b[0m, in \u001b[0;36mEngineAPIResource.__prepare_create_request\u001b[0;34m(cls, api_key, api_base, api_type, api_version, organization, **params)\u001b[0m\n\u001b[1;32m    103\u001b[0m \u001b[39melif\u001b[39;00m timeout \u001b[39m==\u001b[39m \u001b[39m0\u001b[39m:\n\u001b[1;32m    104\u001b[0m     params[\u001b[39m\"\u001b[39m\u001b[39mtimeout\u001b[39m\u001b[39m\"\u001b[39m] \u001b[39m=\u001b[39m MAX_TIMEOUT\n\u001b[0;32m--> 106\u001b[0m requestor \u001b[39m=\u001b[39m api_requestor\u001b[39m.\u001b[39;49mAPIRequestor(\n\u001b[1;32m    107\u001b[0m     api_key,\n\u001b[1;32m    108\u001b[0m     api_base\u001b[39m=\u001b[39;49mapi_base,\n\u001b[1;32m    109\u001b[0m     api_type\u001b[39m=\u001b[39;49mapi_type,\n\u001b[1;32m    110\u001b[0m     api_version\u001b[39m=\u001b[39;49mapi_version,\n\u001b[1;32m    111\u001b[0m     organization\u001b[39m=\u001b[39;49morganization,\n\u001b[1;32m    112\u001b[0m )\n\u001b[1;32m    113\u001b[0m url \u001b[39m=\u001b[39m \u001b[39mcls\u001b[39m\u001b[39m.\u001b[39mclass_url(engine, api_type, api_version)\n\u001b[1;32m    114\u001b[0m \u001b[39mreturn\u001b[39;00m (\n\u001b[1;32m    115\u001b[0m     deployment_id,\n\u001b[1;32m    116\u001b[0m     engine,\n\u001b[0;32m   (...)\u001b[0m\n\u001b[1;32m    124\u001b[0m     params,\n\u001b[1;32m    125\u001b[0m )\n",
            "File \u001b[0;32m~/Library/Python/3.9/lib/python/site-packages/openai/api_requestor.py:138\u001b[0m, in \u001b[0;36mAPIRequestor.__init__\u001b[0;34m(self, key, api_base, api_type, api_version, organization)\u001b[0m\n\u001b[1;32m    129\u001b[0m \u001b[39mdef\u001b[39;00m \u001b[39m__init__\u001b[39m(\n\u001b[1;32m    130\u001b[0m     \u001b[39mself\u001b[39m,\n\u001b[1;32m    131\u001b[0m     key\u001b[39m=\u001b[39m\u001b[39mNone\u001b[39;00m,\n\u001b[0;32m   (...)\u001b[0m\n\u001b[1;32m    135\u001b[0m     organization\u001b[39m=\u001b[39m\u001b[39mNone\u001b[39;00m,\n\u001b[1;32m    136\u001b[0m ):\n\u001b[1;32m    137\u001b[0m     \u001b[39mself\u001b[39m\u001b[39m.\u001b[39mapi_base \u001b[39m=\u001b[39m api_base \u001b[39mor\u001b[39;00m openai\u001b[39m.\u001b[39mapi_base\n\u001b[0;32m--> 138\u001b[0m     \u001b[39mself\u001b[39m\u001b[39m.\u001b[39mapi_key \u001b[39m=\u001b[39m key \u001b[39mor\u001b[39;00m util\u001b[39m.\u001b[39;49mdefault_api_key()\n\u001b[1;32m    139\u001b[0m     \u001b[39mself\u001b[39m\u001b[39m.\u001b[39mapi_type \u001b[39m=\u001b[39m (\n\u001b[1;32m    140\u001b[0m         ApiType\u001b[39m.\u001b[39mfrom_str(api_type)\n\u001b[1;32m    141\u001b[0m         \u001b[39mif\u001b[39;00m api_type\n\u001b[1;32m    142\u001b[0m         \u001b[39melse\u001b[39;00m ApiType\u001b[39m.\u001b[39mfrom_str(openai\u001b[39m.\u001b[39mapi_type)\n\u001b[1;32m    143\u001b[0m     )\n\u001b[1;32m    144\u001b[0m     \u001b[39mself\u001b[39m\u001b[39m.\u001b[39mapi_version \u001b[39m=\u001b[39m api_version \u001b[39mor\u001b[39;00m openai\u001b[39m.\u001b[39mapi_version\n",
            "File \u001b[0;32m~/Library/Python/3.9/lib/python/site-packages/openai/util.py:181\u001b[0m, in \u001b[0;36mdefault_api_key\u001b[0;34m()\u001b[0m\n\u001b[1;32m    179\u001b[0m         api_key \u001b[39m=\u001b[39m k\u001b[39m.\u001b[39mread()\u001b[39m.\u001b[39mstrip()\n\u001b[1;32m    180\u001b[0m         \u001b[39mif\u001b[39;00m \u001b[39mnot\u001b[39;00m api_key\u001b[39m.\u001b[39mstartswith(\u001b[39m\"\u001b[39m\u001b[39msk-\u001b[39m\u001b[39m\"\u001b[39m):\n\u001b[0;32m--> 181\u001b[0m             \u001b[39mraise\u001b[39;00m \u001b[39mValueError\u001b[39;00m(\u001b[39mf\u001b[39m\u001b[39m\"\u001b[39m\u001b[39mMalformed API key in \u001b[39m\u001b[39m{\u001b[39;00mopenai\u001b[39m.\u001b[39mapi_key_path\u001b[39m}\u001b[39;00m\u001b[39m.\u001b[39m\u001b[39m\"\u001b[39m)\n\u001b[1;32m    182\u001b[0m         \u001b[39mreturn\u001b[39;00m api_key\n\u001b[1;32m    183\u001b[0m \u001b[39melif\u001b[39;00m openai\u001b[39m.\u001b[39mapi_key \u001b[39mis\u001b[39;00m \u001b[39mnot\u001b[39;00m \u001b[39mNone\u001b[39;00m:\n",
            "\u001b[0;31mValueError\u001b[0m: Malformed API key in /Users/phbd/Downloads/7551194ecb9b0a0a31cffb23b66c3919/secretkey.txt."
          ]
        }
      ],
      "source": [
        "# random_numbers = [random_number_generator() for i in range(5)]"
      ]
    },
    {
      "cell_type": "code",
      "execution_count": null,
      "id": "5a94981c",
      "metadata": {},
      "outputs": [],
      "source": [
        "print(random_numbers)"
      ]
    },
    {
      "cell_type": "code",
      "execution_count": 24,
      "metadata": {
        "ExecuteTime": {
          "end_time": "2023-07-14T19:24:48.467068Z",
          "start_time": "2023-07-14T19:24:48.436004Z"
        },
        "trusted": true
      },
      "outputs": [],
      "source": [
        "import pandas as pd\n",
        "\n",
        "df_random_numbers = pd.DataFrame()\n",
        "df_random_numbers[\"random_numbers\"] = [int(random_numbers[i]) for i in range(1000)]"
      ]
    },
    {
      "cell_type": "code",
      "execution_count": 25,
      "metadata": {
        "ExecuteTime": {
          "end_time": "2023-07-14T19:24:52.389333Z",
          "start_time": "2023-07-14T19:24:52.360704Z"
        },
        "trusted": true
      },
      "outputs": [],
      "source": [
        "df_random_numbers.to_csv(\"random.csv\", index=False)"
      ]
    },
    {
      "cell_type": "code",
      "execution_count": 26,
      "metadata": {
        "ExecuteTime": {
          "end_time": "2023-07-14T19:24:56.202920Z",
          "start_time": "2023-07-14T19:24:56.177923Z"
        },
        "trusted": true
      },
      "outputs": [],
      "source": [
        "import seaborn as sns"
      ]
    },
    {
      "cell_type": "code",
      "execution_count": 28,
      "metadata": {
        "ExecuteTime": {
          "end_time": "2023-07-14T19:25:23.030999Z",
          "start_time": "2023-07-14T19:25:23.000081Z"
        },
        "trusted": true
      },
      "outputs": [],
      "source": [
        "from collections import Counter"
      ]
    },
    {
      "cell_type": "code",
      "execution_count": 31,
      "metadata": {
        "ExecuteTime": {
          "end_time": "2023-07-14T19:27:13.315039Z",
          "start_time": "2023-07-14T19:27:13.286776Z"
        },
        "trusted": true
      },
      "outputs": [],
      "source": [
        "serie_rn = pd.Series(Counter(list(df_random_numbers[\"random_numbers\"])))"
      ]
    },
    {
      "cell_type": "code",
      "execution_count": 43,
      "metadata": {
        "ExecuteTime": {
          "end_time": "2023-07-14T19:32:23.306362Z",
          "start_time": "2023-07-14T19:32:23.277847Z"
        },
        "trusted": true
      },
      "outputs": [],
      "source": [
        "serie_rn_pct = 100*serie_rn/1000"
      ]
    },
    {
      "cell_type": "code",
      "execution_count": 65,
      "metadata": {
        "ExecuteTime": {
          "end_time": "2023-07-14T19:45:57.442599Z",
          "start_time": "2023-07-14T19:45:57.412176Z"
        },
        "trusted": true
      },
      "outputs": [],
      "source": [
        "df = pd.DataFrame()\n",
        "df['number'] = serie_rn.index\n",
        "df['counter'] = serie_rn.values"
      ]
    },
    {
      "cell_type": "code",
      "execution_count": 75,
      "metadata": {
        "ExecuteTime": {
          "end_time": "2023-07-14T19:50:30.173045Z",
          "start_time": "2023-07-14T19:50:30.142632Z"
        },
        "trusted": true
      },
      "outputs": [],
      "source": [
        "df_final = pd.DataFrame()\n",
        "df_final[\"number\"] = [i for i in range(1,11)]"
      ]
    },
    {
      "cell_type": "code",
      "execution_count": 81,
      "metadata": {
        "ExecuteTime": {
          "end_time": "2023-07-14T19:53:00.091980Z",
          "start_time": "2023-07-14T19:53:00.062119Z"
        },
        "trusted": true
      },
      "outputs": [],
      "source": [
        "df_final = df_final.set_index(\"number\")"
      ]
    },
    {
      "cell_type": "code",
      "execution_count": 84,
      "metadata": {
        "ExecuteTime": {
          "end_time": "2023-07-14T19:53:46.354629Z",
          "start_time": "2023-07-14T19:53:46.324394Z"
        },
        "trusted": true
      },
      "outputs": [],
      "source": [
        "df = df.set_index(\"number\")"
      ]
    },
    {
      "cell_type": "code",
      "execution_count": 86,
      "metadata": {
        "ExecuteTime": {
          "end_time": "2023-07-14T19:53:55.476436Z",
          "start_time": "2023-07-14T19:53:55.446563Z"
        },
        "trusted": true
      },
      "outputs": [],
      "source": [
        "df_final[\"counters\"] = df[\"counter\"]"
      ]
    },
    {
      "cell_type": "code",
      "execution_count": 90,
      "metadata": {
        "ExecuteTime": {
          "end_time": "2023-07-14T19:54:39.004732Z",
          "start_time": "2023-07-14T19:54:38.975879Z"
        },
        "trusted": true
      },
      "outputs": [],
      "source": [
        "df_final = df_final.fillna(0)"
      ]
    },
    {
      "cell_type": "code",
      "execution_count": 93,
      "metadata": {
        "ExecuteTime": {
          "end_time": "2023-07-14T19:55:11.109141Z",
          "start_time": "2023-07-14T19:55:11.075180Z"
        },
        "trusted": true
      },
      "outputs": [],
      "source": [
        "df_final[\"counters\"] = df_final[\"counters\"].astype(int)"
      ]
    },
    {
      "cell_type": "code",
      "execution_count": 102,
      "metadata": {
        "ExecuteTime": {
          "end_time": "2023-07-14T19:58:34.628365Z",
          "start_time": "2023-07-14T19:58:34.599722Z"
        },
        "trusted": true
      },
      "outputs": [],
      "source": [
        "df_final[\"counters_percentage\"] = 100*df_final[\"counters\"]/1000"
      ]
    },
    {
      "cell_type": "code",
      "execution_count": 117,
      "metadata": {
        "ExecuteTime": {
          "end_time": "2023-07-14T20:05:58.042216Z",
          "start_time": "2023-07-14T20:05:57.255751Z"
        },
        "trusted": true
      },
      "outputs": [
        {
          "data": {
            "image/png": "[encoded data removed]",
            "text/plain": [
              "<Figure size 640x480 with 1 Axes>"
            ]
          },
          "metadata": {},
          "output_type": "display_data"
        }
      ],
      "source": [
        "import matplotlib.pyplot as plt\n",
        "\n",
        "fig, ax = plt.subplots()\n",
        "x = [i for i in range(1,11)]\n",
        "y = [serie_rn_pct[i] if i in serie_rn_pct.index else 0 for i in range(1,11)]\n",
        "ax.bar(x, y)\n",
        "for i, val in enumerate(df_final[\"counters_percentage\"]):\n",
        "    ax.text(i+.5, val+1, f\" {val:.1f}%\")\n",
        "ax.set_title(f\"Pick a random number from 1-10\\n(n=1000, mean={np.mean(df_random_numbers['random_numbers'])}, median={np.median(df_random_numbers['random_numbers'])}, model='gpt-3.5-turbo', temp=0.7)\")\n",
        "ax.set_xticks([i for i in range(1,11)])\n",
        "ax.set_yticks([5*i for i in range(10)])\n",
        "ax.set_yticklabels([f\"{5*i}%\" for i in range(10)])\n",
        "ax.set_ylabel(\"% of responses\")\n",
        "plt.savefig(f\"random.png\", dpi=700, bbox_inches='tight', format='png')"
      ]
    }
  ],
  "metadata": {
    "_draft": {
      "nbviewer_url": "https://gist.github.com/alonsosilvaallende/aa0036e3d85fef791261734cb0088182"
    },
    "gist": {
      "data": {
        "description": "LLM_generating_random_numbers.ipynb",
        "public": true
      },
      "id": "aa0036e3d85fef791261734cb0088182"
    },
    "kernelspec": {
      "display_name": "Python 3",
      "language": "python",
      "name": "python3"
    },
    "language_info": {
      "codemirror_mode": {
        "name": "ipython",
        "version": 3
      },
      "file_extension": ".py",
      "mimetype": "text/x-python",
      "name": "python",
      "nbconvert_exporter": "python",
      "pygments_lexer": "ipython3",
      "version": "3.9.6"
    },
    "varInspector": {
      "cols": {
        "lenName": 16,
        "lenType": 16,
        "lenVar": 40
      },
      "kernels_config": {
        "python": {
          "delete_cmd_postfix": "",
          "delete_cmd_prefix": "del ",
          "library": "var_list.py",
          "varRefreshCmd": "print(var_dic_list())"
        },
        "r": {
          "delete_cmd_postfix": ") ",
          "delete_cmd_prefix": "rm(",
          "library": "var_list.r",
          "varRefreshCmd": "cat(var_dic_list()) "
        }
      },
      "types_to_exclude": [
        "module",
        "function",
        "builtin_function_or_method",
        "instance",
        "_Feature"
      ],
      "window_display": false
    }
  },
  "nbformat": 4,
  "nbformat_minor": 5
}
